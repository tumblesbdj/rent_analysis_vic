{
 "cells": [
  {
   "cell_type": "markdown",
   "metadata": {},
   "source": [
    "# Supermarkets using Overpass API"
   ]
  },
  {
   "cell_type": "code",
   "execution_count": 21,
   "metadata": {},
   "outputs": [],
   "source": [
    "import requests\n",
    "import pandas as pd\n",
    "import json"
   ]
  },
  {
   "cell_type": "code",
   "execution_count": 2,
   "metadata": {},
   "outputs": [],
   "source": [
    "# Define the Overpass API URL\n",
    "overpass_url = \"http://overpass-api.de/api/interpreter\""
   ]
  },
  {
   "cell_type": "markdown",
   "metadata": {},
   "source": [
    "The Area ID for Victoria in Overpass API (https://overpass-turbo.eu/) is calculated as follows:\n",
    "\n",
    "`Area ID` = 3600000000 + OSM Relation ID = 3600000000 + 2316741 = `3602316741`"
   ]
  },
  {
   "cell_type": "code",
   "execution_count": 3,
   "metadata": {},
   "outputs": [],
   "source": [
    "# Overpass API query to find all supermarkets in Victoria\n",
    "overpass_query = \"\"\"\n",
    "[out:json];\n",
    "area(3602316741)->.searchArea;\n",
    "node[\"shop\"=\"supermarket\"](area.searchArea);\n",
    "out body;\n",
    "\"\"\""
   ]
  },
  {
   "cell_type": "code",
   "execution_count": 4,
   "metadata": {},
   "outputs": [],
   "source": [
    "# Make the API request\n",
    "response = requests.get(overpass_url, params={'data': overpass_query})\n",
    "data = response.json()"
   ]
  },
  {
   "cell_type": "code",
   "execution_count": 5,
   "metadata": {},
   "outputs": [
    {
     "data": {
      "text/plain": [
       "<Response [200]>"
      ]
     },
     "execution_count": 5,
     "metadata": {},
     "output_type": "execute_result"
    }
   ],
   "source": [
    "response"
   ]
  },
  {
   "cell_type": "code",
   "execution_count": 23,
   "metadata": {},
   "outputs": [
    {
     "name": "stdout",
     "output_type": "stream",
     "text": [
      "{\n",
      "  \"version\": 0.6,\n",
      "  \"generator\": \"Overpass API 0.7.62.1 084b4234\",\n",
      "  \"osm3s\": {\n",
      "    \"timestamp_osm_base\": \"2024-10-15T10:02:15Z\",\n",
      "    \"timestamp_areas_base\": \"2024-10-08T10:29:11Z\",\n",
      "    \"copyright\": \"The data included in this document is from www.openstreetmap.org. The data is made available under ODbL.\"\n",
      "  },\n",
      "  \"elements\": [\n",
      "    {\n",
      "      \"type\": \"node\",\n",
      "      \"id\": 32193447,\n",
      "      \"lat\": -37.2773622,\n",
      "      \"lon\": 144.7338613,\n",
      "      \"tags\": {\n",
      "        \"name\": \"IGA\",\n",
      "        \"shop\": \"supermarket\"\n",
      "      }\n",
      "    },\n",
      "    {\n",
      "      \"type\": \"node\",\n",
      "      \"id\": 218028470,\n",
      "      \"lat\": -37.7914336,\n",
      "      \"lon\": 145.1718422,\n",
      "      \"tags\": {\n",
      "        \"addr:housenumber\": \"55\",\n",
      "        \"addr:street\": \"Tunstall Square\",\n",
      "        \"brand\": \"Coles\",\n",
      "        \"brand:wikidata\": \"Q1108172\",\n",
      "        \"brand:wikipedia\": \"en:Coles Supermarkets\",\n",
      "        \"name\": \"Coles\",\n",
      "        \"opening_hours\": \"07:00-24:00\",\n",
      "        \"operator\": \"Coles Group\",\n",
      "        \"operator:wikidata\": \"Q1339055\",\n",
      "        \"postal_code\": \"3109\",\n",
      "        \"shop\": \"supermarket\",\n",
      "        \"website\": \"https://www.coles.com.au/\"\n",
      "      }\n",
      "    },\n",
      "    {\n",
      "      \"type\": \"node\",\n",
      "      \"id\": 222420863,\n",
      "      \"lat\": -37.7889872,\n",
      "      \"lon\": 144.9760904,\n",
      "      \"tags\": {\n",
      "        \"addr:housenumber\": \"799\",\n",
      "        \"addr:street\": \"Nicholson Street\",\n",
      "        \"branch\": \"Carlton North\",\n",
      "        \"brand\": \"Foodworks\",\n",
      "        \"brand:wikidata\": \"Q5465579\",\n",
      "        \"brand:wikipedia\": \"en:FoodWorks\",\n",
      "        \"fixme\": \"Is this still open?\",\n",
      "        \"name\": \"Foodworks\",\n",
      "        \"opening_hours\": \"24/7\",\n",
      "        \"phone\": \"+61 3 9380 1648\",\n",
      "        \"shop\": \"supermarket\",\n",
      "        \"wheelchair\": \"no\"\n",
      "      }\n",
      "    },\n",
      "    {\n",
      "      \"type\": \"node\",\n",
      "      \"id\": 258471456,\n",
      "      \"lat\": -37.8547864,\n",
      "      \"lon\": 145.1826504,\n",
      "      \"tags\": {\n",
      "        \"addr:housenumber\": \"495-511\",\n",
      "        \"addr:street\": \"Burwood Highway\",\n",
      "        \"brand\": \"Coles\",\n",
      "        \"brand:wikidata\": \"Q1108172\",\n",
      "        \"brand:wikipedia\": \"en:Coles Supermarkets\",\n",
      "        \"building\": \"yes\",\n",
      "        \"ful\n"
     ]
    }
   ],
   "source": [
    "# Display the first 2000 characters\n",
    "print(json.dumps(data, indent=2)[:2000])\n"
   ]
  },
  {
   "cell_type": "code",
   "execution_count": 24,
   "metadata": {},
   "outputs": [],
   "source": [
    "names = []\n",
    "latitudes = []\n",
    "longitudes = []\n",
    "suburbs = []\n",
    "postcodes = []\n",
    "addresses = []\n",
    "\n",
    "# Store supermarket names and locations as a list\n",
    "for element in data['elements']:\n",
    "    # Store names of supermarket\n",
    "    name = element['tags'].get('name', 'Unnamed Supermarket')\n",
    "    names.append(name)\n",
    "    \n",
    "    # Store coordinates \n",
    "    latitudes.append(element['lat'])\n",
    "    longitudes.append(element['lon'])\n",
    "    \n",
    "    # Extract suburb (if available)\n",
    "    suburb = element['tags'].get('addr:suburb', element['tags'].get('addr:city', 'No Suburb'))\n",
    "    suburbs.append(suburb)\n",
    "    \n",
    "    # Store postcode \n",
    "    postcode = element['tags'].get('addr:postcode', 'No Postcode')\n",
    "    postcodes.append(postcode)\n",
    "    \n",
    "    # Store address by combining house number and street\n",
    "    house_number = element['tags'].get('addr:housenumber', '')\n",
    "    street = element['tags'].get('addr:street', '')\n",
    "    address = f\"{house_number} {street}\".strip()  \n",
    "    addresses.append(address)"
   ]
  },
  {
   "cell_type": "code",
   "execution_count": 29,
   "metadata": {},
   "outputs": [],
   "source": [
    "# Convert lists of supermarkets into a dataframe\n",
    "supermarkets_df = pd.DataFrame({\n",
    "    'Supermarket': names,\n",
    "    'Latitude': latitudes,\n",
    "    'Longitude': longitudes,\n",
    "    'Suburb': suburbs,\n",
    "    'Postcode': postcodes,\n",
    "    'Address': addresses\n",
    "})"
   ]
  },
  {
   "cell_type": "code",
   "execution_count": 30,
   "metadata": {},
   "outputs": [
    {
     "data": {
      "text/html": [
       "<div>\n",
       "<style scoped>\n",
       "    .dataframe tbody tr th:only-of-type {\n",
       "        vertical-align: middle;\n",
       "    }\n",
       "\n",
       "    .dataframe tbody tr th {\n",
       "        vertical-align: top;\n",
       "    }\n",
       "\n",
       "    .dataframe thead th {\n",
       "        text-align: right;\n",
       "    }\n",
       "</style>\n",
       "<table border=\"1\" class=\"dataframe\">\n",
       "  <thead>\n",
       "    <tr style=\"text-align: right;\">\n",
       "      <th></th>\n",
       "      <th>Supermarket</th>\n",
       "      <th>Latitude</th>\n",
       "      <th>Longitude</th>\n",
       "      <th>Suburb</th>\n",
       "      <th>Postcode</th>\n",
       "      <th>Address</th>\n",
       "    </tr>\n",
       "  </thead>\n",
       "  <tbody>\n",
       "    <tr>\n",
       "      <th>0</th>\n",
       "      <td>IGA</td>\n",
       "      <td>-37.277362</td>\n",
       "      <td>144.733861</td>\n",
       "      <td>No Suburb</td>\n",
       "      <td>No Postcode</td>\n",
       "      <td></td>\n",
       "    </tr>\n",
       "    <tr>\n",
       "      <th>1</th>\n",
       "      <td>Coles</td>\n",
       "      <td>-37.791434</td>\n",
       "      <td>145.171842</td>\n",
       "      <td>No Suburb</td>\n",
       "      <td>No Postcode</td>\n",
       "      <td>55 Tunstall Square</td>\n",
       "    </tr>\n",
       "    <tr>\n",
       "      <th>2</th>\n",
       "      <td>Foodworks</td>\n",
       "      <td>-37.788987</td>\n",
       "      <td>144.976090</td>\n",
       "      <td>No Suburb</td>\n",
       "      <td>No Postcode</td>\n",
       "      <td>799 Nicholson Street</td>\n",
       "    </tr>\n",
       "    <tr>\n",
       "      <th>3</th>\n",
       "      <td>Coles</td>\n",
       "      <td>-37.854786</td>\n",
       "      <td>145.182650</td>\n",
       "      <td>No Suburb</td>\n",
       "      <td>No Postcode</td>\n",
       "      <td>495-511 Burwood Highway</td>\n",
       "    </tr>\n",
       "    <tr>\n",
       "      <th>4</th>\n",
       "      <td>Coles</td>\n",
       "      <td>-37.868257</td>\n",
       "      <td>145.240404</td>\n",
       "      <td>No Suburb</td>\n",
       "      <td>No Postcode</td>\n",
       "      <td></td>\n",
       "    </tr>\n",
       "    <tr>\n",
       "      <th>...</th>\n",
       "      <td>...</td>\n",
       "      <td>...</td>\n",
       "      <td>...</td>\n",
       "      <td>...</td>\n",
       "      <td>...</td>\n",
       "      <td>...</td>\n",
       "    </tr>\n",
       "    <tr>\n",
       "      <th>967</th>\n",
       "      <td>Hometown Grocer</td>\n",
       "      <td>-37.810336</td>\n",
       "      <td>144.963081</td>\n",
       "      <td>No Suburb</td>\n",
       "      <td>No Postcode</td>\n",
       "      <td></td>\n",
       "    </tr>\n",
       "    <tr>\n",
       "      <th>968</th>\n",
       "      <td>Woolworths</td>\n",
       "      <td>-37.738132</td>\n",
       "      <td>144.892887</td>\n",
       "      <td>No Suburb</td>\n",
       "      <td>No Postcode</td>\n",
       "      <td></td>\n",
       "    </tr>\n",
       "    <tr>\n",
       "      <th>969</th>\n",
       "      <td>Coles</td>\n",
       "      <td>-37.705259</td>\n",
       "      <td>144.916775</td>\n",
       "      <td>No Suburb</td>\n",
       "      <td>No Postcode</td>\n",
       "      <td></td>\n",
       "    </tr>\n",
       "    <tr>\n",
       "      <th>970</th>\n",
       "      <td>IGA</td>\n",
       "      <td>-37.707108</td>\n",
       "      <td>144.918612</td>\n",
       "      <td>No Suburb</td>\n",
       "      <td>No Postcode</td>\n",
       "      <td></td>\n",
       "    </tr>\n",
       "    <tr>\n",
       "      <th>971</th>\n",
       "      <td>IGA</td>\n",
       "      <td>-37.800046</td>\n",
       "      <td>144.965325</td>\n",
       "      <td>No Suburb</td>\n",
       "      <td>No Postcode</td>\n",
       "      <td></td>\n",
       "    </tr>\n",
       "  </tbody>\n",
       "</table>\n",
       "<p>972 rows × 6 columns</p>\n",
       "</div>"
      ],
      "text/plain": [
       "         Supermarket   Latitude   Longitude     Suburb     Postcode   \n",
       "0                IGA -37.277362  144.733861  No Suburb  No Postcode  \\\n",
       "1              Coles -37.791434  145.171842  No Suburb  No Postcode   \n",
       "2          Foodworks -37.788987  144.976090  No Suburb  No Postcode   \n",
       "3              Coles -37.854786  145.182650  No Suburb  No Postcode   \n",
       "4              Coles -37.868257  145.240404  No Suburb  No Postcode   \n",
       "..               ...        ...         ...        ...          ...   \n",
       "967  Hometown Grocer -37.810336  144.963081  No Suburb  No Postcode   \n",
       "968       Woolworths -37.738132  144.892887  No Suburb  No Postcode   \n",
       "969            Coles -37.705259  144.916775  No Suburb  No Postcode   \n",
       "970              IGA -37.707108  144.918612  No Suburb  No Postcode   \n",
       "971              IGA -37.800046  144.965325  No Suburb  No Postcode   \n",
       "\n",
       "                     Address  \n",
       "0                             \n",
       "1         55 Tunstall Square  \n",
       "2       799 Nicholson Street  \n",
       "3    495-511 Burwood Highway  \n",
       "4                             \n",
       "..                       ...  \n",
       "967                           \n",
       "968                           \n",
       "969                           \n",
       "970                           \n",
       "971                           \n",
       "\n",
       "[972 rows x 6 columns]"
      ]
     },
     "execution_count": 30,
     "metadata": {},
     "output_type": "execute_result"
    }
   ],
   "source": [
    "# See all supermarketd\n",
    "supermarkets_df"
   ]
  },
  {
   "cell_type": "code",
   "execution_count": 28,
   "metadata": {},
   "outputs": [
    {
     "data": {
      "text/plain": [
       "972"
      ]
     },
     "execution_count": 28,
     "metadata": {},
     "output_type": "execute_result"
    }
   ],
   "source": [
    "# total supermarkets in Victoria\n",
    "len(supermarkets_df)"
   ]
  },
  {
   "cell_type": "code",
   "execution_count": 31,
   "metadata": {},
   "outputs": [],
   "source": [
    "# save the DataFrame to a CSV file\n",
    "supermarkets_df.to_csv('../../data/curated/preprocessed_supermarkets.csv', index=False)"
   ]
  }
 ],
 "metadata": {
  "kernelspec": {
   "display_name": "base",
   "language": "python",
   "name": "python3"
  },
  "language_info": {
   "codemirror_mode": {
    "name": "ipython",
    "version": 3
   },
   "file_extension": ".py",
   "mimetype": "text/x-python",
   "name": "python",
   "nbconvert_exporter": "python",
   "pygments_lexer": "ipython3",
   "version": "3.9.7"
  }
 },
 "nbformat": 4,
 "nbformat_minor": 2
}
